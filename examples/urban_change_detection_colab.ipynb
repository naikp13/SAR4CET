{
  "cells": [
    {
      "cell_type": "markdown",
      "metadata": {},
      "source": [
        "# Urban Change Detection using SAR4CET in Google Colab\n",
        "\n",
        "This notebook demonstrates how to use the SAR4CET repository for urban change detection using Sentinel-1 SAR data."
      ]
    },
    {
      "cell_type": "markdown",
      "metadata": {},
      "source": [
        "## Setup\n",
        "\n",
        "First, let's install the required packages and clone the SAR4CET repository."
      ]
    },
    {
      "cell_type": "code",
      "execution_count": null,
      "metadata": {},
      "outputs": [],
      "source": [
        "# Install required packages\n",
        "!pip install sentinelsat rasterio matplotlib numpy scikit-learn scikit-image geopandas shapely"
      ]
    },
    {
      "cell_type": "code",
      "execution_count": null,
      "metadata": {},
      "outputs": [],
      "source": [
        "# Clone the SAR4CET repository\n",
        "!git clone https://github.com/naikp13/SAR4CET.git\n",
        "!cd SAR4CET && pip install -e ."
      ]
    },
    {
      "cell_type": "code",
      "execution_count": null,
      "metadata": {},
      "outputs": [],
      "source": [
        "import os\n",
        "import numpy as np\n",
        "import matplotlib.pyplot as plt\n",
        "from datetime import datetime, timedelta\n",
        "import rasterio\n",
        "from rasterio.plot import show\n",
        "import geopandas as gpd\n",
        "from shapely.geometry import box\n",
        "import warnings\n",
        "warnings.filterwarnings('ignore')"
      ]
    },
    {
      "cell_type": "code",
      "execution_count": null,
      "metadata": {},
      "outputs": [],
      "source": [
        "# Import SAR4CET modules\n",
        "from sar4cet import preprocessing, change_detection, visualization, utils"
      ]
    },
    {
      "cell_type": "markdown",
      "metadata": {},
      "source": [
        "## Define Area of Interest (AOI)\n",
        "\n",
        "Define a bounding box for the urban area you want to analyze. The example below is for San Francisco, CA."
      ]
    },
    {
      "cell_type": "code",
      "execution_count": null,
      "metadata": {},
      "outputs": [],
      "source": [
        "def create_aoi_bbox(min_lon=-122.5, min_lat=37.7, max_lon=-122.3, max_lat=37.8):\n",
        "    \"\"\"Create a bounding box for the area of interest\"\"\"\n",
        "    return box(min_lon, min_lat, max_lon, max_lat)\n",
        "\n",
        "# Create a GeoDataFrame from the AOI\n",
        "def create_aoi_geodataframe(aoi_bbox):\n",
        "    \"\"\"Create a GeoDataFrame from the AOI bounding box\"\"\"\n",
        "    gdf = gpd.GeoDataFrame(index=[0], crs='EPSG:4326', geometry=[aoi_bbox])\n",
        "    return gdf"
      ]
    },
    {
      "cell_type": "markdown",
      "metadata": {},
      "source": [
        "## Simulate SAR Data\n",
        "\n",
        "For testing purposes, we can simulate SAR data when actual data download is not possible or to avoid using Copernicus credentials."
      ]
    },
    {
      "cell_type": "code",
      "execution_count": null,
      "metadata": {},
      "outputs": [],
      "source": [
        "def simulate_sar_data(num_images=3, width=500, height=500):\n",
        "    \"\"\"Simulate SAR data for testing\"\"\"\n",
        "    # Create a directory to store simulated data\n",
        "    os.makedirs('simulated_data', exist_ok=True)\n",
        "    \n",
        "    # Generate simulated SAR images with urban features\n",
        "    image_paths = []\n",
        "    dates = []\n",
        "    \n",
        "    # Base image with urban-like features\n",
        "    base = np.random.gamma(shape=1.0, scale=0.3, size=(height, width))\n",
        "    \n",
        "    # Add some structures that look like buildings\n",
        "    for i in range(20):\n",
        "        x = np.random.randint(50, width-100)\n",
        "        y = np.random.randint(50, height-100)\n",
        "        size_x = np.random.randint(20, 80)\n",
        "        size_y = np.random.randint(20, 80)\n",
        "        base[y:y+size_y, x:x+size_x] = np.random.gamma(shape=5.0, scale=0.5, size=(size_y, size_x))\n",
        "    \n",
        "    # Generate time series with changes\n",
        "    for i in range(num_images):\n",
        "        # Copy the base image\n",
        "        img = base.copy()\n",
        "        \n",
        "        # Add some changes for each time step\n",
        "        if i > 0:\n",
        "            # Add or remove some buildings\n",
        "            for _ in range(5):\n",
        "                x = np.random.randint(50, width-100)\n",
        "                y = np.random.randint(50, height-100)\n",
        "                size_x = np.random.randint(20, 60)\n",
        "                size_y = np.random.randint(20, 60)\n",
        "                if np.random.rand() > 0.5:\n",
        "                    # Add a building\n",
        "                    img[y:y+size_y, x:x+size_x] = np.random.gamma(shape=5.0, scale=0.5, size=(size_y, size_x))\n",
        "                else:\n",
        "                    # Remove a building\n",
        "                    img[y:y+size_y, x:x+size_x] = np.random.gamma(shape=1.0, scale=0.3, size=(size_y, size_x))\n",
        "        \n",
        "        # Save the image\n",
        "        date = datetime.now() - timedelta(days=(num_images-i)*15)\n",
        "        dates.append(date.strftime('%Y%m%d'))\n",
        "        \n",
        "        filename = f'simulated_data/sar_image_{dates[i]}.tif'\n",
        "        \n",
        "        # Create a GeoTIFF\n",
        "        transform = rasterio.transform.from_bounds(-122.5, 37.7, -122.3, 37.8, width, height)\n",
        "        with rasterio.open(\n",
        "            filename, 'w',\n",
        "            driver='GTiff',\n",
        "            height=height,\n",
        "            width=width,\n",
        "            count=1,\n",
        "            dtype=img.dtype,\n",
        "            crs='+proj=longlat +ellps=WGS84 +datum=WGS84 +no_defs',\n",
        "            transform=transform\n",
        "        ) as dst:\n",
        "            dst.write(img, 1)\n",
        "        \n",
        "        image_paths.append(filename)\n",
        "    \n",
        "    return image_paths, dates"
      ]
    },
    {
      "cell_type": "markdown",
      "metadata": {},
      "source": [
        "## Urban Change Detection Workflow\n",
        "\n",
        "Now let's define the main function to run the urban change detection workflow."
      ]
    },
    {
      "cell_type": "code",
      "execution_count": null,
      "metadata": {},
      "outputs": [],
      "source": [
        "def run_urban_change_detection(use_simulated_data=True):\n",
        "    \"\"\"Run the urban change detection workflow\"\"\"\n",
        "    print(\"Starting urban change detection workflow...\")\n",
        "    \n",
        "    if use_simulated_data:\n",
        "        print(\"Using simulated SAR data...\")\n",
        "        image_paths, dates = simulate_sar_data(num_images=3)\n",
        "        print(f\"Generated {len(image_paths)} simulated SAR images\")\n",
        "    else:\n",
        "        # Set up Copernicus Open Access Hub credentials\n",
        "        # You need to register at https://scihub.copernicus.eu/dhus/\n",
        "        username = input(\"Enter your Copernicus Open Access Hub username: \")\n",
        "        password = input(\"Enter your Copernicus Open Access Hub password: \")\n",
        "        \n",
        "        # Create AOI\n",
        "        aoi_bbox = create_aoi_bbox()\n",
        "        aoi_gdf = create_aoi_geodataframe(aoi_bbox)\n",
        "        \n",
        "        # Define time period\n",
        "        start_date = '20220101'\n",
        "        end_date = '20220401'\n",
        "        \n",
        "        # Search for Sentinel-1 data\n",
        "        print(\"Searching for Sentinel-1 data...\")\n",
        "        products = preprocessing.search_sentinel1(\n",
        "            aoi=aoi_gdf,\n",
        "            start_date=start_date,\n",
        "            end_date=end_date,\n",
        "            username=username,\n",
        "            password=password\n",
        "        )\n",
        "        \n",
        "        if len(products) == 0:\n",
        "            print(\"No Sentinel-1 data found. Using simulated data instead.\")\n",
        "            image_paths, dates = simulate_sar_data(num_images=3)\n",
        "        else:\n",
        "            # Download Sentinel-1 data\n",
        "            print(f\"Found {len(products)} Sentinel-1 products. Downloading...\")\n",
        "            downloaded_files = preprocessing.download_sentinel1(\n",
        "                products=products,\n",
        "                username=username,\n",
        "                password=password,\n",
        "                output_dir='sentinel1_data'\n",
        "            )\n",
        "            \n",
        "            # Preprocess the data\n",
        "            print(\"Preprocessing Sentinel-1 data...\")\n",
        "            calibrated_files = []\n",
        "            for file in downloaded_files:\n",
        "                # Calibrate\n",
        "                cal_file = preprocessing.calibrate_data(\n",
        "                    input_file=file,\n",
        "                    calibration_type='Sigma0',\n",
        "                    output_db=True\n",
        "                )\n",
        "                calibrated_files.append(cal_file)\n",
        "            \n",
        "            # Apply speckle filtering\n",
        "            filtered_files = []\n",
        "            for file in calibrated_files:\n",
        "                filt_file = preprocessing.apply_speckle_filter(\n",
        "                    input_file=file,\n",
        "                    filter_type='Lee',\n",
        "                    filter_size=5\n",
        "                )\n",
        "                filtered_files.append(filt_file)\n",
        "            \n",
        "            # Apply terrain correction\n",
        "            image_paths = []\n",
        "            for file in filtered_files:\n",
        "                tc_file = preprocessing.apply_rtc(\n",
        "                    input_file=file\n",
        "                )\n",
        "                image_paths.append(tc_file)\n",
        "            \n",
        "            # Extract dates from filenames\n",
        "            dates = [os.path.basename(file).split('_')[4] for file in image_paths]\n",
        "    \n",
        "    # Perform change detection\n",
        "    print(\"Performing change detection...\")\n",
        "    \n",
        "    # Read the images\n",
        "    images = []\n",
        "    for path in image_paths:\n",
        "        with rasterio.open(path) as src:\n",
        "            img = src.read(1)\n",
        "            images.append(img)\n",
        "    \n",
        "    # Convert list to numpy array\n",
        "    image_stack = np.array(images)\n",
        "    \n",
        "    # Apply Omnibus change detection\n",
        "    print(\"Applying Omnibus change detection...\")\n",
        "    omnibus_result = change_detection.omnibus_test(image_stack, alpha=0.01)\n",
        "    \n",
        "    # Visualize the results\n",
        "    print(\"Visualizing results...\")\n",
        "    fig, ax = plt.subplots(figsize=(10, 8))\n",
        "    visualization.plot_changes(omnibus_result, ax=ax, title=\"Urban Change Detection Results\")\n",
        "    plt.savefig('urban_change_detection_result.png')\n",
        "    plt.show()\n",
        "    \n",
        "    # Create RGB change composite\n",
        "    if len(images) >= 3:\n",
        "        print(\"Creating RGB change composite...\")\n",
        "        rgb_composite = visualization.create_rgb_change_composite(\n",
        "            [images[0], images[1], images[2]],\n",
        "            stretch_percentile=2\n",
        "        )\n",
        "        \n",
        "        fig, ax = plt.subplots(figsize=(10, 8))\n",
        "        ax.imshow(rgb_composite)\n",
        "        ax.set_title(\"RGB Change Composite\")\n",
        "        ax.set_axis_off()\n",
        "        plt.savefig('rgb_change_composite.png')\n",
        "        plt.show()\n",
        "    \n",
        "    # Plot time series for a sample point\n",
        "    print(\"Plotting time series for a sample point...\")\n",
        "    sample_row = image_stack.shape[1] // 2\n",
        "    sample_col = image_stack.shape[2] // 2\n",
        "    time_series = image_stack[:, sample_row, sample_col]\n",
        "    \n",
        "    fig, ax = plt.subplots(figsize=(10, 6))\n",
        "    visualization.plot_time_series(\n",
        "        time_series,\n",
        "        dates=dates,\n",
        "        ax=ax,\n",
        "        title=f\"Backscatter Time Series at Point ({sample_row}, {sample_col})\"\n",
        "    )\n",
        "    plt.savefig('time_series_plot.png')\n",
        "    plt.show()\n",
        "    \n",
        "    print(\"Urban change detection workflow completed!\")\n",
        "    print(\"Results saved as:\")\n",
        "    print(\"  - urban_change_detection_result.png\")\n",
        "    print(\"  - rgb_change_composite.png\")\n",
        "    print(\"  - time_series_plot.png\")"
      ]
    },
    {
      "cell_type": "markdown",
      "metadata": {},
      "source": [
        "## Run the Workflow\n",
        "\n",
        "Now let's run the urban change detection workflow. By default, we'll use simulated data to avoid requiring Copernicus credentials."
      ]
    },
    {
      "cell_type": "code",
      "execution_count": null,
      "metadata": {},
      "outputs": [],
      "source": [
        "# Run with simulated data\n",
        "run_urban_change_detection(use_simulated_data=True)"
      ]
    },
    {
      "cell_type": "markdown",
      "metadata": {},
      "source": [
        "## Using Real Sentinel-1 Data\n",
        "\n",
        "To use real Sentinel-1 data, you need to have a Copernicus Open Access Hub account. Uncomment and run the cell below to use real data."
      ]
    },
    {
      "cell_type": "code",
      "execution_count": null,
      "metadata": {},
      "outputs": [],
      "source": [
        "# Run with real Sentinel-1 data\n",
        "# run_urban_change_detection(use_simulated_data=False)"
      ]
    },
    {
      "cell_type": "markdown",
      "metadata": {},
      "source": [
        "## Conclusion\n",
        "\n",
        "This notebook demonstrated how to use the SAR4CET toolkit for urban change detection using Sentinel-1 SAR data. The workflow includes data acquisition, preprocessing, change detection, and visualization of the results."
      ]
    }
  ],
  "metadata": {
    "kernelspec": {
      "display_name": "Python 3",
      "language": "python",
      "name": "python3"
    },
    "language_info": {
      "codemirror_mode": {
        "name": "ipython",
        "version": 3
      },
      "file_extension": ".py",
      "mimetype": "text/x-python",
      "name": "python",
      "nbconvert_exporter": "python",
      "pygments_lexer": "ipython3",
      "version": "3.8.10"
    }
  },
  "nbformat": 4,
  "nbformat_minor": 4
}