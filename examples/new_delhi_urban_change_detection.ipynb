{
 "cells": [
  {
   "cell_type": "markdown",
   "metadata": {},
   "source": [
    "# Urban Change Detection in New Delhi using Sentinel-1 SAR Data\n",
    "\n",
    "This notebook demonstrates urban change detection in a developing area of New Delhi using Sentinel-1 SAR data accessed through the openEO API. We'll compare backscatter values between two time periods to identify urban development changes.\n",
    "\n",
    "## Requirements\n",
    "- openEO Python client\n",
    "- Copernicus Dataspace account for authentication\n",
    "- xarray, matplotlib, numpy for data processing and visualization"
   ]
  },
  {
   "cell_type": "code",
   "execution_count": null,
   "metadata": {},
   "outputs": [],
   "source": [
    "import openeo\n",
    "import xarray as xr\n",
    "import matplotlib.pyplot as plt\n",
    "import numpy as np\n",
    "from datetime import datetime\n",
    "import warnings\n",
    "warnings.filterwarnings('ignore')"
   ]
  },
  {
   "cell_type": "markdown",
   "metadata": {},
   "source": [
    "## 1. Connect to openEO Backend\n",
    "\n",
    "Connect to the Copernicus Dataspace openEO backend and authenticate."
   ]
  },
  {
   "cell_type": "code",
   "execution_count": null,
   "metadata": {},
   "outputs": [],
   "source": [
    "# Connect to Copernicus Dataspace openEO backend\n",
    "backend = \"openeo.dataspace.copernicus.eu\"\n",
    "conn = openeo.connect(backend).authenticate_oidc()\n",
    "print(f\"Connected to {backend}\")"
   ]
  },
  {
   "cell_type": "markdown",
   "metadata": {},
   "source": [
    "## 2. Define Area of Interest\n",
    "\n",
    "We'll focus on a developing area in South Delhi, specifically around Gurgaon-Delhi border where significant urban expansion has occurred."
   ]
  },
  {
   "cell_type": "code",
   "execution_count": null,
   "metadata": {},
   "outputs": [],
   "source": [
    "# Area of Interest: Developing area in South Delhi (Gurgaon-Delhi border)\n",
    "# This area has seen significant urban development in recent years\n",
    "spatial_extent = {\n",
    "    \"west\": 77.0500,\n",
    "    \"east\": 77.1200,\n",
    "    \"south\": 28.4200,\n",
    "    \"north\": 28.4800,\n",
    "    \"crs\": \"EPSG:4326\",\n",
    "}\n",
    "\n",
    "print(f\"Area of Interest: {spatial_extent}\")"
   ]
  },
  {
   "cell_type": "markdown",
   "metadata": {},
   "source": [
    "## 3. Load Sentinel-1 Data for Two Time Periods\n",
    "\n",
    "We'll compare data from two different years to detect urban changes. The first period represents the baseline (2020) and the second period represents recent development (2023)."
   ]
  },
  {
   "cell_type": "code",
   "execution_count": null,
   "metadata": {},
   "outputs": [],
   "source": [
    "# Define temporal extents for change detection\n",
    "# Period 1: Baseline (2020)\n",
    "temporal_extent_1 = [\"2020-01-01\", \"2020-03-31\"]\n",
    "\n",
    "# Period 2: Recent (2023)\n",
    "temporal_extent_2 = [\"2023-01-01\", \"2023-03-31\"]\n",
    "\n",
    "print(f\"Baseline period: {temporal_extent_1}\")",
    "print(f\"Recent period: {temporal_extent_2}\")"
   ]
  },
  {
   "cell_type": "code",
   "execution_count": null,
   "metadata": {},
   "outputs": [],
   "source": [
    "# Load Sentinel-1 data for baseline period\n",
    "s1_baseline = conn.load_collection(\n",
    "    \"SENTINEL1_GRD\",\n",
    "    spatial_extent=spatial_extent,\n",
    "    bands=[\"VV\", \"VH\"],\n",
    "    temporal_extent=temporal_extent_1,\n",
    "    properties={\"sat:orbit_state\": lambda od: od == \"ASCENDING\"},\n",
    ")\n",
    "\n",
    "# Load Sentinel-1 data for recent period\n",
    "s1_recent = conn.load_collection(\n",
    "    \"SENTINEL1_GRD\",\n",
    "    spatial_extent=spatial_extent,\n",
    "    bands=[\"VV\", \"VH\"],\n",
    "    temporal_extent=temporal_extent_2,\n",
    "    properties={\"sat:orbit_state\": lambda od: od == \"ASCENDING\"},\n",
    ")\n",
    "\n",
    "print(\"Sentinel-1 data loaded for both periods\")"
   ]
  },
  {
   "cell_type": "markdown",
   "metadata": {},
   "source": [
    "## 4. Apply SAR Backscatter Processing\n",
    "\n",
    "Apply radiometric calibration and convert to dB scale for both time periods."
   ]
  },
  {
   "cell_type": "code",
   "execution_count": null,
   "metadata": {},
   "outputs": [],
   "source": [
    "# Apply SAR backscatter processing for baseline period\n",
    "s1_scatter_baseline = s1_baseline.sar_backscatter(\n",
    "    coefficient=\"sigma0-ellipsoid\", \n",
    "    elevation_model=\"COPERNICUS_30\"\n",
    ")\n",
    "s1bs_baseline = s1_scatter_baseline.apply(lambda x: 10 * x.log(base=10))\n",
    "\n",
    "# Apply SAR backscatter processing for recent period\n",
    "s1_scatter_recent = s1_recent.sar_backscatter(\n",
    "    coefficient=\"sigma0-ellipsoid\", \n",
    "    elevation_model=\"COPERNICUS_30\"\n",
    ")\n",
    "s1bs_recent = s1_scatter_recent.apply(lambda x: 10 * x.log(base=10))\n",
    "\n",
    "print(\"SAR backscatter processing applied to both periods\")"
   ]
  },
  {
   "cell_type": "markdown",
   "metadata": {},
   "source": [
    "## 5. Temporal Aggregation\n",
    "\n",
    "Aggregate the data temporally to create median composites for each period, reducing noise and cloud effects."
   ]
  },
  {
   "cell_type": "code",
   "execution_count": null,
   "metadata": {},
   "outputs": [],
   "source": [
    "# Create median composites for each period\n",
    "s1_baseline_median = s1bs_baseline.median_time()\n",
    "s1_recent_median = s1bs_recent.median_time()\n",
    "\n",
    "print(\"Temporal aggregation completed\")"
   ]
  },
  {
   "cell_type": "markdown",
   "metadata": {},
   "source": [
    "## 6. Download Processed Data\n",
    "\n",
    "Download the processed SAR data for both time periods."
   ]
  },
  {
   "cell_type": "code",
   "execution_count": null,
   "metadata": {},
   "outputs": [],
   "source": [
    "# Download baseline data\n",
    "print(\"Downloading baseline data...\")",
    "s1_baseline_median.download(\"new_delhi_baseline_2020.nc\")\n",
    "\n",
    "# Download recent data\n",
    "print(\"Downloading recent data...\")",
    "s1_recent_median.download(\"new_delhi_recent_2023.nc\")\n",
    "\n",
    "print(\"Data download completed\")"
   ]
  },
  {
   "cell_type": "markdown",
   "metadata": {},
   "source": [
    "## 7. Load and Visualize Downloaded Data\n",
    "\n",
    "Load the downloaded NetCDF files and visualize the SAR backscatter data."
   ]
  },
  {
   "cell_type": "code",
   "execution_count": null,
   "metadata": {},
   "outputs": [],
   "source": [
    "# Load the downloaded data\n",
    "baseline_data = xr.open_dataset(\"new_delhi_baseline_2020.nc\")\n",
    "recent_data = xr.open_dataset(\"new_delhi_recent_2023.nc\")\n",
    "\n",
    "print(\"Baseline data shape:\", baseline_data.dims)\n",
    "print(\"Recent data shape:\", recent_data.dims)\n",
    "print(\"\\nBaseline data info:\")\n",
    "print(baseline_data)"
   ]
  },
  {
   "cell_type": "code",
   "execution_count": null,
   "metadata": {},
   "outputs": [],
   "source": [
    "# Visualize VV and VH polarizations for both periods\n",
    "fig, axes = plt.subplots(2, 2, figsize=(15, 12))\n",
    "\n",
    "# Baseline period\n",
    "im1 = axes[0, 0].imshow(baseline_data.VV.values, cmap='Greys_r', vmin=-25, vmax=5)\n",
    "axes[0, 0].set_title('Baseline 2020 - VV Polarization')\n",
    "axes[0, 0].axis('off')\n",
    "plt.colorbar(im1, ax=axes[0, 0], label='Backscatter (dB)')\n",
    "\n",
    "im2 = axes[0, 1].imshow(baseline_data.VH.values, cmap='Greys_r', vmin=-30, vmax=-5)\n",
    "axes[0, 1].set_title('Baseline 2020 - VH Polarization')\n",
    "axes[0, 1].axis('off')\n",
    "plt.colorbar(im2, ax=axes[0, 1], label='Backscatter (dB)')\n",
    "\n",
    "# Recent period\n",
    "im3 = axes[1, 0].imshow(recent_data.VV.values, cmap='Greys_r', vmin=-25, vmax=5)\n",
    "axes[1, 0].set_title('Recent 2023 - VV Polarization')\n",
    "axes[1, 0].axis('off')\n",
    "plt.colorbar(im3, ax=axes[1, 0], label='Backscatter (dB)')\n",
    "\n",
    "im4 = axes[1, 1].imshow(recent_data.VH.values, cmap='Greys_r', vmin=-30, vmax=-5)\n",
    "axes[1, 1].set_title('Recent 2023 - VH Polarization')\n",
    "axes[1, 1].axis('off')\n",
    "plt.colorbar(im4, ax=axes[1, 1], label='Backscatter (dB)')\n",
    "\n",
    "plt.tight_layout()\n",
    "plt.show()"
   ]
  },
  {
   "cell_type": "markdown",
   "metadata": {},
   "source": [
    "## 8. Change Detection Analysis\n",
    "\n",
    "Calculate the difference between the two time periods to identify areas of change. Urban development typically shows increased backscatter values due to the presence of buildings and infrastructure."
   ]
  },
  {
   "cell_type": "code",
   "execution_count": null,
   "metadata": {},
   "outputs": [],
   "source": [
    "# Calculate change detection (difference between recent and baseline)\n",
    "vv_change = recent_data.VV.values - baseline_data.VV.values\n",
    "vh_change = recent_data.VH.values - baseline_data.VH.values\n",
    "\n",
    "# Calculate statistics\n",
    "print(f\"VV Change Statistics:\")\n",
    "print(f\"  Mean: {np.nanmean(vv_change):.3f} dB\")\n",
    "print(f\"  Std: {np.nanstd(vv_change):.3f} dB\")\n",
    "print(f\"  Min: {np.nanmin(vv_change):.3f} dB\")\n",
    "print(f\"  Max: {np.nanmax(vv_change):.3f} dB\")\n",
    "\n",
    "print(f\"\\nVH Change Statistics:\")\n",
    "print(f\"  Mean: {np.nanmean(vh_change):.3f} dB\")\n",
    "print(f\"  Std: {np.nanstd(vh_change):.3f} dB\")\n",
    "print(f\"  Min: {np.nanmin(vh_change):.3f} dB\")\n",
    "print(f\"  Max: {np.nanmax(vh_change):.3f} dB\")"
   ]
  },
  {
   "cell_type": "code",
   "execution_count": null,
   "metadata": {},
   "outputs": [],
   "source": [
    "# Visualize change detection results\n",
    "fig, axes = plt.subplots(1, 2, figsize=(15, 6))\n",
    "\n",
    "# VV change\n",
    "im1 = axes[0].imshow(vv_change, cmap='RdBu_r', vmin=-5, vmax=5)\n",
    "axes[0].set_title('VV Backscatter Change (2023 - 2020)')\n",
    "axes[0].axis('off')\n",
    "cbar1 = plt.colorbar(im1, ax=axes[0], label='Change in Backscatter (dB)')\n",
    "\n",
    "# VH change\n",
    "im2 = axes[1].imshow(vh_change, cmap='RdBu_r', vmin=-5, vmax=5)\n",
    "axes[1].set_title('VH Backscatter Change (2023 - 2020)')\n",
    "axes[1].axis('off')\n",
    "cbar2 = plt.colorbar(im2, ax=axes[1], label='Change in Backscatter (dB)')\n",
    "\n",
    "plt.tight_layout()\n",
    "plt.show()\n",
    "\n",
    "print(\"\\nInterpretation:\")\n",
    "print(\"- Red areas: Increased backscatter (potential urban development)\")\n",
    "print(\"- Blue areas: Decreased backscatter (potential vegetation loss or water bodies)\")\n",
    "print(\"- White areas: No significant change\")"
   ]
  },
  {
   "cell_type": "markdown",
   "metadata": {},
   "source": [
    "## 9. Urban Change Detection Mask\n",
    "\n",
    "Create a binary mask to identify significant urban changes based on backscatter increase thresholds."
   ]
  },
  {
   "cell_type": "code",
   "execution_count": null,
   "metadata": {},
   "outputs": [],
   "source": [
    "# Define thresholds for urban change detection\n",
    "# Urban development typically shows increase in VV backscatter > 2 dB\n",
    "vv_threshold = 2.0  # dB\n",
    "vh_threshold = 1.5  # dB\n",
    "\n",
    "# Create urban change masks\n",
    "urban_change_vv = vv_change > vv_threshold\n",
    "urban_change_vh = vh_change > vh_threshold\n",
    "\n",
    "# Combined urban change mask (both polarizations show increase)\n",
    "urban_change_combined = urban_change_vv & urban_change_vh\n",
    "\n",
    "# Calculate change statistics\n",
    "total_pixels = vv_change.size\n",
    "changed_pixels_vv = np.sum(urban_change_vv)\n",
    "changed_pixels_vh = np.sum(urban_change_vh)\n",
    "changed_pixels_combined = np.sum(urban_change_combined)\n",
    "\n",
    "print(f\"Urban Change Detection Results:\")\n",
    "print(f\"  Total pixels: {total_pixels}\")\n",
    "print(f\"  VV change pixels: {changed_pixels_vv} ({changed_pixels_vv/total_pixels*100:.2f}%)\")\n",
    "print(f\"  VH change pixels: {changed_pixels_vh} ({changed_pixels_vh/total_pixels*100:.2f}%)\")\n",
    "print(f\"  Combined change pixels: {changed_pixels_combined} ({changed_pixels_combined/total_pixels*100:.2f}%)\")"
   ]
  },
  {
   "cell_type": "code",
   "execution_count": null,
   "metadata": {},
   "outputs": [],
   "source": [
    "# Visualize urban change masks\n",
    "fig, axes = plt.subplots(1, 3, figsize=(18, 6))\n",
    "\n",
    "# VV urban change mask\n",
    "axes[0].imshow(urban_change_vv, cmap='Reds', alpha=0.8)\n",
    "axes[0].set_title(f'VV Urban Change Mask\\n(>{vv_threshold} dB increase)')\n",
    "axes[0].axis('off')\n",
    "\n",
    "# VH urban change mask\n",
    "axes[1].imshow(urban_change_vh, cmap='Blues', alpha=0.8)\n",
    "axes[1].set_title(f'VH Urban Change Mask\\n(>{vh_threshold} dB increase)')\n",
    "axes[1].axis('off')\n",
    "\n",
    "# Combined urban change mask\n",
    "axes[2].imshow(urban_change_combined, cmap='Greens', alpha=0.8)\n",
    "axes[2].set_title('Combined Urban Change Mask\\n(Both VV & VH increase)')\n",
    "axes[2].axis('off')\n",
    "\n",
    "plt.tight_layout()\n",
    "plt.show()"
   ]
  },
  {
   "cell_type": "markdown",
   "metadata": {},
   "source": [
    "## 10. Summary and Conclusions\n",
    "\n",
    "This analysis demonstrates urban change detection using Sentinel-1 SAR data accessed through the openEO API. The key findings include:\n",
    "\n",
    "1. **Data Access**: Successfully accessed Sentinel-1 GRD data for New Delhi using openEO\n",
    "2. **Processing**: Applied SAR backscatter calibration and temporal aggregation\n",
    "3. **Change Detection**: Identified areas with significant backscatter increases indicating potential urban development\n",
    "4. **Visualization**: Created comprehensive visualizations showing changes between 2020 and 2023\n",
    "\n",
    "### Key Advantages of openEO for SAR Processing:\n",
    "- **Standardized Processing**: Consistent SAR backscatter calibration across different sensors\n",
    "- **Cloud Processing**: No need to download large datasets for processing\n",
    "- **Temporal Analysis**: Easy temporal aggregation and comparison\n",
    "- **Scalability**: Can be easily extended to larger areas or longer time series\n",
    "\n",
    "### Urban Change Detection Insights:\n",
    "- Increased VV backscatter typically indicates new buildings or infrastructure\n",
    "- VH polarization is sensitive to vegetation changes and urban texture\n",
    "- Combined analysis provides more robust change detection results\n",
    "\n",
    "### Next Steps:\n",
    "- Validate results with high-resolution optical imagery\n",
    "- Extend analysis to longer time series for trend analysis\n",
    "- Incorporate additional SAR parameters (coherence, polarimetric features)\n",
    "- Apply machine learning techniques for automated urban change classification"
   ]
  },
  {
   "cell_type": "code",
   "execution_count": null,
   "metadata": {},
   "outputs": [],
   "source": [
    "# Clean up downloaded files (optional)\n",
    "import os\n",
    "\n",
    "# Uncomment the following lines to remove downloaded files\n",
    "# os.remove('new_delhi_baseline_2020.nc')\n",
    "# os.remove('new_delhi_recent_2023.nc')\n",
    "# print('Downloaded files cleaned up')\n",
    "\n",
    "print('Analysis completed successfully!')"
   ]
  }
 ],
 "metadata": {
  "kernelspec": {
   "display_name": "Python 3",
   "language": "python",
   "name": "python3"
  },
  "language_info": {
   "codemirror_mode": {
    "name": "ipython",
    "version": 3
   },
   "file_extension": ".py",
   "mimetype": "text/x-python",
   "name": "python",
   "nbconvert_exporter": "python",
   "pygments_lexer": "ipython3",
   "version": "3.8.0"
  }
 },
 "nbformat": 4,
 "nbformat_minor": 4
}